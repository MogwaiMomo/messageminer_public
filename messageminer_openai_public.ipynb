{
 "cells": [
  {
   "cell_type": "markdown",
   "metadata": {},
   "source": [
    "# MessageMiner: \n",
    "## A script for clustering open-text survey responses\n",
    "\n",
    "Are you an NLP/LLM wizard? Please help me improve this! Email: [momoko[at]kantan.io](mailto:momoko@kantan.io)\n",
    "\n",
    "\n",
    "\n",
    "\n",
    "----\n"
   ]
  },
  {
   "cell_type": "markdown",
   "metadata": {
    "tags": []
   },
   "source": [
    "## Stage 1: Get embeddings for each document\n",
    "\n",
    "This stage of the script is a modified version of the ['Obtain_dataset'](https://github.com/openai/openai-cookbook/blob/main/examples/Obtain_dataset.ipynb) notebook from OpenAI's [OpenAI Cookbook](https://github.com/openai/openai-cookbook) on github. \n",
    "\n",
    "To complete Stage 1, you will need to have the following packages installed: pandas, openai, transformers, plotly, matplotlib, scikit-learn, torch (transformer dep), torchvision, and scipy.\n",
    "\n",
    "Also: Ensure you have your API key set in your environment, or added in the following cell, per the README: https://github.com/openai/openai-python#usage"
   ]
  },
  {
   "cell_type": "code",
   "execution_count": 1,
   "metadata": {},
   "outputs": [],
   "source": [
    "# imports & API authentication\n",
    "import sys\n",
    "import numpy as np\n",
    "import pandas as pd\n",
    "import tiktoken\n",
    "import matplotlib\n",
    "import openai\n",
    "\n",
    "openai.api_key = \"YOUR-API-KEY-GOES-HERE\""
   ]
  },
  {
   "cell_type": "code",
   "execution_count": 2,
   "metadata": {},
   "outputs": [],
   "source": [
    "##  Using a customized version of 'get_embedding' function so @retry can be adjusted to avoid rate limit errors \n",
    "from tenacity import retry, wait_random_exponential, stop_after_attempt\n",
    "\n",
    "@retry(wait=wait_random_exponential(min=5, max=15), stop=stop_after_attempt(6))\n",
    "def get_embedding(text: str, model=\"text-embedding-ada-002\") -> list[float]:\n",
    "    return openai.Embedding.create(input=[text], model=model)[\"data\"][0][\"embedding\"]\n",
    "\n",
    "# embedding model parameters\n",
    "embedding_model = \"text-embedding-ada-002\"\n",
    "embedding_encoding = \"cl100k_base\"  # this the encoding for text-embedding-ada-002\n",
    "max_tokens = 8000  # the maximum for text-embedding-ada-002 is 8191"
   ]
  },
  {
   "cell_type": "code",
   "execution_count": 3,
   "metadata": {},
   "outputs": [
    {
     "data": {
      "text/html": [
       "<div>\n",
       "<style scoped>\n",
       "    .dataframe tbody tr th:only-of-type {\n",
       "        vertical-align: middle;\n",
       "    }\n",
       "\n",
       "    .dataframe tbody tr th {\n",
       "        vertical-align: top;\n",
       "    }\n",
       "\n",
       "    .dataframe thead th {\n",
       "        text-align: right;\n",
       "    }\n",
       "</style>\n",
       "<table border=\"1\" class=\"dataframe\">\n",
       "  <thead>\n",
       "    <tr style=\"text-align: right;\">\n",
       "      <th></th>\n",
       "      <th>text</th>\n",
       "    </tr>\n",
       "    <tr>\n",
       "      <th>id</th>\n",
       "      <th></th>\n",
       "    </tr>\n",
       "  </thead>\n",
       "  <tbody>\n",
       "    <tr>\n",
       "      <th>0</th>\n",
       "      <td>Good fitting</td>\n",
       "    </tr>\n",
       "    <tr>\n",
       "      <th>1</th>\n",
       "      <td>Convenient</td>\n",
       "    </tr>\n",
       "    <tr>\n",
       "      <th>2</th>\n",
       "      <td>Uncomfortable wire, finding the time to go int...</td>\n",
       "    </tr>\n",
       "    <tr>\n",
       "      <th>3</th>\n",
       "      <td>Being able to source a large range of styles a...</td>\n",
       "    </tr>\n",
       "    <tr>\n",
       "      <th>4</th>\n",
       "      <td>none</td>\n",
       "    </tr>\n",
       "  </tbody>\n",
       "</table>\n",
       "</div>"
      ],
      "text/plain": [
       "                                                 text\n",
       "id                                                   \n",
       "0                                        Good fitting\n",
       "1                                          Convenient\n",
       "2   Uncomfortable wire, finding the time to go int...\n",
       "3   Being able to source a large range of styles a...\n",
       "4                                                none"
      ]
     },
     "execution_count": 3,
     "metadata": {},
     "output_type": "execute_result"
    }
   ],
   "source": [
    "# load dataset\n",
    "# for simplicity's sake, the dataset should be a 1-column CSV of short VOC docs, such as survey responses. \n",
    "\n",
    "input_datapath = \"data/curvy_survey_pain_points.csv\"  \n",
    "df = pd.read_csv(input_datapath)\n",
    "df.index.name = \"id\" # set index as id\n",
    "df = df.dropna()\n",
    "\n",
    "# inspect it visually\n",
    "df.head(5)"
   ]
  },
  {
   "cell_type": "code",
   "execution_count": null,
   "metadata": {},
   "outputs": [],
   "source": [
    "# Generate embeddings for each document and export file to csv (this may take a few minutes). \n",
    "# You only need to do this once! \n",
    "\n",
    "df[\"embedding\"] = df.text.apply(lambda x: get_embedding(x, model=embedding_model))\n",
    "df.to_csv(\"data/curvy_survey_pain_points_with_embeddings.csv\")"
   ]
  },
  {
   "cell_type": "markdown",
   "metadata": {
    "tags": []
   },
   "source": [
    "## Stage 2: Cluster the documents\n",
    "This stage of the script is a modified version of the ['Clustering'](https://github.com/openai/openai-cookbook/blob/main/examples/Clustering.ipynb) notebook from OpenAI's [OpenAI Cookbook](https://github.com/openai/openai-cookbook) on github. \n",
    "\n",
    "This modified version allows you to search for the 'optimal' number of clusters for your k-means model over a range of k using the 'elbow' method, rather than randomly picking a single number and fitting the model once.\n",
    "\n",
    "After identifying a 'target' K via the elbow method, it will then generate avg. silhouette scores for a smaller subset of k around the target K. Whatever value of k generates the highest silhouette score within this range will be assumed to be the best k for clustering our documents. ** \n",
    "\n",
    "** _Note: This method of identifying k is far from perfect, it is really just a hack to avoid pure guessing. Suggestions for other more rigorous methods for finding the best k — as well as corrections to the hack I've created so far — are very much welcome and appreciated!_"
   ]
  },
  {
   "cell_type": "code",
   "execution_count": 2,
   "metadata": {},
   "outputs": [],
   "source": [
    "# additional imports\n",
    "import matplotlib.pyplot as plt\n",
    "from kneed import KneeLocator\n",
    "from sklearn.datasets import make_blobs\n",
    "from sklearn.cluster import KMeans\n",
    "from sklearn.metrics import silhouette_score\n",
    "from sklearn.preprocessing import StandardScaler\n",
    "\n",
    "# load data (with embeddings)\n",
    "datafile_path = \"./data/curvy_survey_pain_points_with_embeddings.csv\"\n",
    "\n",
    "df = pd.read_csv(datafile_path)\n",
    "df[\"embedding\"] = df.embedding.apply(eval).apply(np.array)  # convert string to numpy array\n",
    "matrix = np.vstack(df.embedding.values)"
   ]
  },
  {
   "cell_type": "markdown",
   "metadata": {
    "tags": []
   },
   "source": [
    "### 2.1 Find optimal # of clusters using K-means, elbow method & silhouette scores"
   ]
  },
  {
   "cell_type": "markdown",
   "metadata": {},
   "source": [
    "We show the simplest use of K-means. You can pick the number of clusters that fits your use case best.\n",
    "\n",
    "Cookbook for optimizing n_clusters:\n",
    "https://realpython.com/k-means-clustering-python/#choosing-the-appropriate-number-of-clusters"
   ]
  },
  {
   "cell_type": "code",
   "execution_count": 3,
   "metadata": {},
   "outputs": [],
   "source": [
    "def find_best_k_elbow(kmeans_kwargs, k_max, k_min=1):\n",
    "    sse = []\n",
    "    for k in range(k_min, k_max):\n",
    "        kmeans = KMeans(n_clusters=k, **kmeans_kwargs)\n",
    "        kmeans.fit(matrix)\n",
    "        sse.append(kmeans.inertia_)\n",
    "        \n",
    "    # plot the elbow graph\n",
    "    plt.style.use(\"fivethirtyeight\")\n",
    "    plt.plot(range(1, k_max), sse)\n",
    "    plt.xticks(range(1, k_max))\n",
    "    plt.xlabel(\"Number of Clusters\")\n",
    "    plt.ylabel(\"SSE\")\n",
    "    plt.show()\n",
    "    \n",
    "    kl = KneeLocator(\n",
    "    range(k_min, k_max), \n",
    "    sse, \n",
    "    curve=\"convex\", \n",
    "    direction=\"decreasing\")\n",
    "\n",
    "    print(\"\\n\")\n",
    "    print(f\"Optimal 'elbow' K is: {kl.elbow} clusters.\")\n",
    "    \n",
    "    return kl.elbow\n",
    "    \n",
    "def get_best_silhouette_k(kmeans_kwargs, target_k):\n",
    "    # A list holds the silhouette coefficients for each k\n",
    "    silhouette_coefficients = {}\n",
    "\n",
    "    for k in target_k:\n",
    "        kmeans = KMeans(n_clusters=k, **kmeans_kwargs)\n",
    "        kmeans.fit(matrix)\n",
    "        score = silhouette_score(matrix, kmeans.labels_)\n",
    "        silhouette_coefficients[k] = score\n",
    "    \n",
    "    for i in silhouette_coefficients:\n",
    "        print(f\"Silhouette score for K = {i}: {silhouette_coefficients[i]}\")\n",
    "        \n",
    "    best_k = max(silhouette_coefficients, key=silhouette_coefficients.get)\n",
    "    best_model = KMeans(n_clusters=best_k, **kmeans_kwargs)\n",
    "    best_model.fit(matrix)\n",
    "    \n",
    "    print(\"\\n\")\n",
    "    print(f\"Highest-scoring K is: {best_k} clusters.\\n\\n\")\n",
    "    \n",
    "    return(best_model, best_k)\n",
    "    "
   ]
  },
  {
   "cell_type": "code",
   "execution_count": 11,
   "metadata": {},
   "outputs": [],
   "source": [
    "# set default parameters for kmeans modeling (may want to try tuning these later)\n",
    "\n",
    "kmeans_kwargs = {\n",
    "    \"init\": \"k-means++\",\n",
    "    \"n_init\": 10,\n",
    "    \"max_iter\": 300\n",
    "    #\"random_state\": 42, \n",
    "}"
   ]
  },
  {
   "cell_type": "code",
   "execution_count": 12,
   "metadata": {},
   "outputs": [
    {
     "data": {
      "image/png": "[encoded data removed]",
      "text/plain": [
       "<Figure size 640x480 with 1 Axes>"
      ]
     },
     "metadata": {},
     "output_type": "display_data"
    },
    {
     "name": "stdout",
     "output_type": "stream",
     "text": [
      "\n",
      "\n",
      "Optimal 'elbow' K is: 12 clusters.\n"
     ]
    }
   ],
   "source": [
    "k_max = int(len(df)/25) # k_max = the max number of clusters to try to model. \n",
    "\n",
    "elbow_k = find_best_k_elbow(kmeans_kwargs, k_max) # cluster our dataset with # of clusters (k) ranging from 1 to k_max.  \n",
    "\n",
    "# NOTE: You can set k_max to whatever you want. I defined k_max to be in some way proportional to total sample size. In this case, k_max is total sample size divided by an avg. cluster size of 25 documents per cluster. The more  documents you have, the higher range of clusters the elbow method will test."
   ]
  },
  {
   "cell_type": "code",
   "execution_count": 13,
   "metadata": {},
   "outputs": [
    {
     "name": "stdout",
     "output_type": "stream",
     "text": [
      "Silhouette score for K = 7: 0.07399775913971599\n",
      "Silhouette score for K = 8: 0.07712532840115838\n",
      "Silhouette score for K = 9: 0.07844632181346188\n",
      "Silhouette score for K = 10: 0.062454507391524805\n",
      "Silhouette score for K = 11: 0.06674665148972404\n",
      "Silhouette score for K = 12: 0.06209079174639158\n",
      "Silhouette score for K = 13: 0.05924447351340137\n",
      "Silhouette score for K = 14: 0.07061259293015483\n",
      "Silhouette score for K = 15: 0.06093543347323623\n",
      "Silhouette score for K = 16: 0.06949079434626759\n",
      "\n",
      "\n",
      "Highest-scoring K is: 9 clusters.\n",
      "\n",
      "\n"
     ]
    }
   ],
   "source": [
    "# Get silhouette scores for different ranges of k around elbow_k, because the elbow method is still very 'fuzzy' in its conclusiveness. It's a good idea to see if any other k values produce marginally better scores.\n",
    "\n",
    "k_min = elbow_k - 5\n",
    "k_max = elbow_k + 5\n",
    "\n",
    "best_model, best_k = get_best_silhouette_k(kmeans_kwargs, range(k_min, k_max))"
   ]
  },
  {
   "cell_type": "markdown",
   "metadata": {
    "tags": []
   },
   "source": [
    "### 2.2 Summarizing themes for each cluster based on random sampling\n",
    "\n",
    "We'll use text-davinci-003 to describe the common theme within each cluster, based on a random sample of 10 documents from that cluster."
   ]
  },
  {
   "cell_type": "code",
   "execution_count": 14,
   "metadata": {},
   "outputs": [],
   "source": [
    "df[\"cluster\"] = best_model.labels_  # categorize each document by assigning it to a cluster"
   ]
  },
  {
   "cell_type": "code",
   "execution_count": 15,
   "metadata": {},
   "outputs": [],
   "source": [
    "# create master dataset where all documents are clustered in groups, and sorted from largest group to smallest\n",
    "\n",
    "cluster_list = []\n",
    "\n",
    "for i in range(best_k):\n",
    "    sampling_seed = 42\n",
    "    cluster_size = len(df[df.cluster == i])\n",
    "    \n",
    "    if len(df[df.cluster == i]) > 10:\n",
    "        sample_per_cluster = 10\n",
    "    else: \n",
    "        sample_per_cluster = cluster_size\n",
    "        \n",
    "    sample_cluster_rows = df[df.cluster == i].sample(sample_per_cluster, random_state=sampling_seed).text\n",
    "\n",
    "    samples = \"\\n\".join(\n",
    "        sample_cluster_rows\n",
    "        .values\n",
    "    )\n",
    "\n",
    "    response = openai.Completion.create(\n",
    "        engine=\"text-davinci-003\",\n",
    "        prompt=f'What do the following survey responses have in common?\\n\\nSurvey Responses:\\n\"\"\"\\n{samples}\\n\"\"\"\\n\\nTheme:',\n",
    "        temperature=0,\n",
    "        max_tokens=64,\n",
    "        top_p=1,\n",
    "        frequency_penalty=0,\n",
    "        presence_penalty=0,\n",
    "    )\n",
    "    \n",
    "    cluster_elements = {\"cluster_num\": \"cluster_\"+str(i+1),\n",
    "                        \"cluster_size\": cluster_size,\n",
    "                        \"cluster_docs\": df[df.cluster == i].text,\n",
    "                        \"sample_verbatims\": sample_cluster_rows,\n",
    "                        \"cluster_theme\": response[\"choices\"][0][\"text\"].replace(\".\\n\", \"\")}\n",
    "    \n",
    "    cluster_list.append(cluster_elements)\n",
    "    \n",
    "# save all cluster-specific data, including summaries generated by text-davinci-003, to a master df\n",
    "cluster_df = (pd.DataFrame(cluster_list)\n",
    "              .sort_values(by='cluster_size', ascending=False)\n",
    "              .reset_index()\n",
    "              .drop(['index', 'cluster_num'], axis=1))\n",
    "\n",
    "cluster_df.index = np.arange(1, len(cluster_df) + 1)\n",
    "cluster_df.index.name = \"cluster_id\"\n",
    "\n",
    "# subset the columns we're interested in\n",
    "full_results_df = cluster_df[[\"cluster_theme\", \"cluster_size\", \"sample_verbatims\", \"cluster_docs\"]]"
   ]
  },
  {
   "cell_type": "markdown",
   "metadata": {
    "tags": []
   },
   "source": [
    "## Stage 3: Save the results to output files\n",
    "\n",
    "We'll export our clustering results to 2 output files: \n",
    "\n",
    "**FILE 1:** A text summary file that lists the clusters in order of descending size, describes the common theme for each, and lists a sample of verbatims to get the 'jist' of the overarching message in the customers' own words. \n",
    "\n",
    "**FILE 2:** A multi-tab spreadsheet that includes an overview tab that lists the clusters found, and then subsequent tabs that contain all the documents that were assigned to each cluster. These tabs are intended to be useful for copywriters and marketers who may want to use these clusters to further train GPT-3, or simply look for \"swipe-worthy\" statements and turns of phrases to inject into content assets (ads, LPs, emails, etc.)\n",
    "\n",
    "**NOTE:** In the larger clusters, it's likely that there will be some noticeable 'noise' wherein some documents won't seem like they belong ('one of these things is not like the other ...'). But the major overarching theme should prevail/dominate as the most common message within that cluster. If not, the model needs to be tuned further."
   ]
  },
  {
   "cell_type": "code",
   "execution_count": 16,
   "metadata": {},
   "outputs": [],
   "source": [
    "# hideous hacky function for getting the results into usable, readable files\n",
    "def export_files(df):\n",
    "    \n",
    "    import os\n",
    "    if not os.path.exists('data/messageminer_results'):\n",
    "        os.makedirs('data/messageminer_results') \n",
    "    \n",
    "    original_stdout = sys.stdout # Save a reference to the original standard output\n",
    "    \n",
    "    with open('data/messageminer_results/cluster_summary.txt', 'w') as f:\n",
    "        sys.stdout = f # Change the standard output to the file we created.\n",
    "        for idx, row in full_results_df.iterrows():\n",
    "    \n",
    "            print(f\"Cluster Id: \", idx)\n",
    "            print(f\"Cluster Theme:\", end=\" \")\n",
    "            print(row[\"cluster_theme\"])\n",
    "            print(f\"Cluster Size: \", row['cluster_size'])\n",
    "            print(\"\\n\")\n",
    "\n",
    "            print(\"VERBATIMS FROM CUSTOMERS:\")\n",
    "            print(\"\\n\")\n",
    "            \n",
    "            for i in row['sample_verbatims']:\n",
    "                print('\"'+i+'\"')\n",
    "\n",
    "            print('\\n')\n",
    "            print(\"-\" * 100)\n",
    "            print('\\n')\n",
    "\n",
    "        sys.stdout = original_stdout # Reset the standard output to its original value\n",
    "\n",
    "    f.close()\n",
    "    \n",
    "    \n",
    "    with pd.ExcelWriter('data/messageminer_results/voc_clustered.xlsx') as writer:\n",
    "        \n",
    "        # save to summary info as cover sheet\n",
    "        print(f\"Saving summary sheet first ...\")\n",
    "        overview_df = df[[\"cluster_theme\", \"cluster_size\"]]\n",
    "        overview_df.T.reset_index().T.to_excel(writer,sheet_name=\"clusters_overview\",header=None, index=None) \n",
    "        \n",
    "        # save each group of documents to separate tabs\n",
    "        for idx, row in df.iterrows():\n",
    "            # create output df\n",
    "            row['cluster_docs'].name = \"THEME: \" + row['cluster_theme'].upper()\n",
    "            sheet_df = row['cluster_docs'].to_frame()\n",
    "            sheet_label = \"cluster_\" + str(idx)\n",
    "            \n",
    "            # save to file as worksheet\n",
    "            print(f\"Saving docs to worksheet #{idx} ...\")\n",
    "            sheet_df.T.reset_index().T.to_excel(writer,sheet_name=sheet_label,header=None, index=None)    \n",
    "    \n",
    "    print(\"Done!\")"
   ]
  },
  {
   "cell_type": "code",
   "execution_count": 17,
   "metadata": {},
   "outputs": [
    {
     "name": "stdout",
     "output_type": "stream",
     "text": [
      "Saving summary sheet first ...\n",
      "Saving docs to worksheet #1 ...\n",
      "Saving docs to worksheet #2 ...\n",
      "Saving docs to worksheet #3 ...\n",
      "Saving docs to worksheet #4 ...\n",
      "Saving docs to worksheet #5 ...\n",
      "Saving docs to worksheet #6 ...\n",
      "Saving docs to worksheet #7 ...\n",
      "Saving docs to worksheet #8 ...\n",
      "Saving docs to worksheet #9 ...\n",
      "Done!\n"
     ]
    }
   ],
   "source": [
    "export_files(full_results_df)"
   ]
  },
  {
   "cell_type": "code",
   "execution_count": null,
   "metadata": {},
   "outputs": [],
   "source": []
  }
 ],
 "metadata": {
  "kernelspec": {
   "display_name": "pip_env",
   "language": "python",
   "name": "pip_env"
  },
  "language_info": {
   "codemirror_mode": {
    "name": "ipython",
    "version": 3
   },
   "file_extension": ".py",
   "mimetype": "text/x-python",
   "name": "python",
   "nbconvert_exporter": "python",
   "pygments_lexer": "ipython3",
   "version": "3.10.6"
  },
  "vscode": {
   "interpreter": {
    "hash": "365536dcbde60510dc9073d6b991cd35db2d9bac356a11f5b64279a5e6708b97"
   }
  }
 },
 "nbformat": 4,
 "nbformat_minor": 4
}
